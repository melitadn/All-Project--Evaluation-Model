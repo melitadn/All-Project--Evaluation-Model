{
 "cells": [
  {
   "cell_type": "markdown",
   "metadata": {},
   "source": [
    "# TBS_BESAR_MCL_GLASS_CLASSIFICATION"
   ]
  },
  {
   "cell_type": "markdown",
   "metadata": {},
   "source": [
    "#### 1.  Menyiapkan library dan dataset yang akan digunakan, Load library dan explorasi dataset"
   ]
  },
  {
   "cell_type": "markdown",
   "metadata": {},
   "source": [
    "import library untuk evaluasi model yang akan digunakan, terdapat 4 model evaluasi yang akan di coba pada dataset ini, yaitu decision tree, logistic regression,knn dan random forest classifier"
   ]
  },
  {
   "cell_type": "code",
   "execution_count": 100,
   "metadata": {},
   "outputs": [],
   "source": [
    "import numpy as np #untuk array\n",
    "import pandas as pd #untuk dataframes\n",
    "import seaborn as sns #untuk library visualisasi statistikal\n",
    "import matplotlib.pyplot as plt #untuk visualisasi\n",
    "from sklearn.cross_validation import train_test_split #untuk menghitung nilai skor evaluasi model\n",
    "from sklearn import cross_validation\n",
    "from sklearn.model_selection import (cross_val_score,StratifiedKFold)\n",
    "from sklearn import preprocessing\n",
    "\n",
    "from collections import Counter\n",
    "from sklearn.pipeline import Pipeline # streaming pipelines\n",
    "from sklearn.preprocessing import (FunctionTransformer, StandardScaler) # untuk preprocessing \n",
    "from time import time\n",
    "\n",
    "#load model yang akan digunakan\n",
    "from sklearn.neighbors import KNeighborsClassifier\n",
    "from sklearn.tree import DecisionTreeClassifier\n",
    "from sklearn.linear_model import LogisticRegression\n",
    "from sklearn.ensemble import RandomForestClassifier\n"
   ]
  },
  {
   "cell_type": "code",
   "execution_count": 101,
   "metadata": {},
   "outputs": [
    {
     "name": "stdout",
     "output_type": "stream",
     "text": [
      "(214, 10)\n"
     ]
    }
   ],
   "source": [
    "data=pd.read_csv('glass.csv')\n",
    "features=data.columns[:-1].tolist()\n",
    "print(data.shape)"
   ]
  },
  {
   "cell_type": "markdown",
   "metadata": {
    "collapsed": true
   },
   "source": [
    "#dataset glass terdiri dari 214 baris/observasi"
   ]
  },
  {
   "cell_type": "code",
   "execution_count": 102,
   "metadata": {
    "scrolled": true
   },
   "outputs": [
    {
     "data": {
      "text/html": [
       "<div>\n",
       "<style>\n",
       "    .dataframe thead tr:only-child th {\n",
       "        text-align: right;\n",
       "    }\n",
       "\n",
       "    .dataframe thead th {\n",
       "        text-align: left;\n",
       "    }\n",
       "\n",
       "    .dataframe tbody tr th {\n",
       "        vertical-align: top;\n",
       "    }\n",
       "</style>\n",
       "<table border=\"1\" class=\"dataframe\">\n",
       "  <thead>\n",
       "    <tr style=\"text-align: right;\">\n",
       "      <th></th>\n",
       "      <th>RI</th>\n",
       "      <th>Na</th>\n",
       "      <th>Mg</th>\n",
       "      <th>Al</th>\n",
       "      <th>Si</th>\n",
       "      <th>K</th>\n",
       "      <th>Ca</th>\n",
       "      <th>Ba</th>\n",
       "      <th>Fe</th>\n",
       "      <th>TypeofGlass</th>\n",
       "    </tr>\n",
       "  </thead>\n",
       "  <tbody>\n",
       "    <tr>\n",
       "      <th>0</th>\n",
       "      <td>1.52101</td>\n",
       "      <td>13.64</td>\n",
       "      <td>4.49</td>\n",
       "      <td>1.10</td>\n",
       "      <td>71.78</td>\n",
       "      <td>0.06</td>\n",
       "      <td>8.75</td>\n",
       "      <td>0.0</td>\n",
       "      <td>0.00</td>\n",
       "      <td>1</td>\n",
       "    </tr>\n",
       "    <tr>\n",
       "      <th>1</th>\n",
       "      <td>1.51761</td>\n",
       "      <td>13.89</td>\n",
       "      <td>3.60</td>\n",
       "      <td>1.36</td>\n",
       "      <td>72.73</td>\n",
       "      <td>0.48</td>\n",
       "      <td>7.83</td>\n",
       "      <td>0.0</td>\n",
       "      <td>0.00</td>\n",
       "      <td>1</td>\n",
       "    </tr>\n",
       "    <tr>\n",
       "      <th>2</th>\n",
       "      <td>1.51618</td>\n",
       "      <td>13.53</td>\n",
       "      <td>3.55</td>\n",
       "      <td>1.54</td>\n",
       "      <td>72.99</td>\n",
       "      <td>0.39</td>\n",
       "      <td>7.78</td>\n",
       "      <td>0.0</td>\n",
       "      <td>0.00</td>\n",
       "      <td>1</td>\n",
       "    </tr>\n",
       "    <tr>\n",
       "      <th>3</th>\n",
       "      <td>1.51766</td>\n",
       "      <td>13.21</td>\n",
       "      <td>3.69</td>\n",
       "      <td>1.29</td>\n",
       "      <td>72.61</td>\n",
       "      <td>0.57</td>\n",
       "      <td>8.22</td>\n",
       "      <td>0.0</td>\n",
       "      <td>0.00</td>\n",
       "      <td>1</td>\n",
       "    </tr>\n",
       "    <tr>\n",
       "      <th>4</th>\n",
       "      <td>1.51742</td>\n",
       "      <td>13.27</td>\n",
       "      <td>3.62</td>\n",
       "      <td>1.24</td>\n",
       "      <td>73.08</td>\n",
       "      <td>0.55</td>\n",
       "      <td>8.07</td>\n",
       "      <td>0.0</td>\n",
       "      <td>0.00</td>\n",
       "      <td>1</td>\n",
       "    </tr>\n",
       "    <tr>\n",
       "      <th>5</th>\n",
       "      <td>1.51596</td>\n",
       "      <td>12.79</td>\n",
       "      <td>3.61</td>\n",
       "      <td>1.62</td>\n",
       "      <td>72.97</td>\n",
       "      <td>0.64</td>\n",
       "      <td>8.07</td>\n",
       "      <td>0.0</td>\n",
       "      <td>0.26</td>\n",
       "      <td>1</td>\n",
       "    </tr>\n",
       "    <tr>\n",
       "      <th>6</th>\n",
       "      <td>1.51743</td>\n",
       "      <td>13.30</td>\n",
       "      <td>3.60</td>\n",
       "      <td>1.14</td>\n",
       "      <td>73.09</td>\n",
       "      <td>0.58</td>\n",
       "      <td>8.17</td>\n",
       "      <td>0.0</td>\n",
       "      <td>0.00</td>\n",
       "      <td>1</td>\n",
       "    </tr>\n",
       "    <tr>\n",
       "      <th>7</th>\n",
       "      <td>1.51756</td>\n",
       "      <td>13.15</td>\n",
       "      <td>3.61</td>\n",
       "      <td>1.05</td>\n",
       "      <td>73.24</td>\n",
       "      <td>0.57</td>\n",
       "      <td>8.24</td>\n",
       "      <td>0.0</td>\n",
       "      <td>0.00</td>\n",
       "      <td>1</td>\n",
       "    </tr>\n",
       "    <tr>\n",
       "      <th>8</th>\n",
       "      <td>1.51918</td>\n",
       "      <td>14.04</td>\n",
       "      <td>3.58</td>\n",
       "      <td>1.37</td>\n",
       "      <td>72.08</td>\n",
       "      <td>0.56</td>\n",
       "      <td>8.30</td>\n",
       "      <td>0.0</td>\n",
       "      <td>0.00</td>\n",
       "      <td>1</td>\n",
       "    </tr>\n",
       "    <tr>\n",
       "      <th>9</th>\n",
       "      <td>1.51755</td>\n",
       "      <td>13.00</td>\n",
       "      <td>3.60</td>\n",
       "      <td>1.36</td>\n",
       "      <td>72.99</td>\n",
       "      <td>0.57</td>\n",
       "      <td>8.40</td>\n",
       "      <td>0.0</td>\n",
       "      <td>0.11</td>\n",
       "      <td>1</td>\n",
       "    </tr>\n",
       "    <tr>\n",
       "      <th>10</th>\n",
       "      <td>1.51571</td>\n",
       "      <td>12.72</td>\n",
       "      <td>3.46</td>\n",
       "      <td>1.56</td>\n",
       "      <td>73.20</td>\n",
       "      <td>0.67</td>\n",
       "      <td>8.09</td>\n",
       "      <td>0.0</td>\n",
       "      <td>0.24</td>\n",
       "      <td>1</td>\n",
       "    </tr>\n",
       "    <tr>\n",
       "      <th>11</th>\n",
       "      <td>1.51763</td>\n",
       "      <td>12.80</td>\n",
       "      <td>3.66</td>\n",
       "      <td>1.27</td>\n",
       "      <td>73.01</td>\n",
       "      <td>0.60</td>\n",
       "      <td>8.56</td>\n",
       "      <td>0.0</td>\n",
       "      <td>0.00</td>\n",
       "      <td>1</td>\n",
       "    </tr>\n",
       "    <tr>\n",
       "      <th>12</th>\n",
       "      <td>1.51589</td>\n",
       "      <td>12.88</td>\n",
       "      <td>3.43</td>\n",
       "      <td>1.40</td>\n",
       "      <td>73.28</td>\n",
       "      <td>0.69</td>\n",
       "      <td>8.05</td>\n",
       "      <td>0.0</td>\n",
       "      <td>0.24</td>\n",
       "      <td>1</td>\n",
       "    </tr>\n",
       "    <tr>\n",
       "      <th>13</th>\n",
       "      <td>1.51748</td>\n",
       "      <td>12.86</td>\n",
       "      <td>3.56</td>\n",
       "      <td>1.27</td>\n",
       "      <td>73.21</td>\n",
       "      <td>0.54</td>\n",
       "      <td>8.38</td>\n",
       "      <td>0.0</td>\n",
       "      <td>0.17</td>\n",
       "      <td>1</td>\n",
       "    </tr>\n",
       "    <tr>\n",
       "      <th>14</th>\n",
       "      <td>1.51763</td>\n",
       "      <td>12.61</td>\n",
       "      <td>3.59</td>\n",
       "      <td>1.31</td>\n",
       "      <td>73.29</td>\n",
       "      <td>0.58</td>\n",
       "      <td>8.50</td>\n",
       "      <td>0.0</td>\n",
       "      <td>0.00</td>\n",
       "      <td>1</td>\n",
       "    </tr>\n",
       "  </tbody>\n",
       "</table>\n",
       "</div>"
      ],
      "text/plain": [
       "         RI     Na    Mg    Al     Si     K    Ca   Ba    Fe  TypeofGlass\n",
       "0   1.52101  13.64  4.49  1.10  71.78  0.06  8.75  0.0  0.00            1\n",
       "1   1.51761  13.89  3.60  1.36  72.73  0.48  7.83  0.0  0.00            1\n",
       "2   1.51618  13.53  3.55  1.54  72.99  0.39  7.78  0.0  0.00            1\n",
       "3   1.51766  13.21  3.69  1.29  72.61  0.57  8.22  0.0  0.00            1\n",
       "4   1.51742  13.27  3.62  1.24  73.08  0.55  8.07  0.0  0.00            1\n",
       "5   1.51596  12.79  3.61  1.62  72.97  0.64  8.07  0.0  0.26            1\n",
       "6   1.51743  13.30  3.60  1.14  73.09  0.58  8.17  0.0  0.00            1\n",
       "7   1.51756  13.15  3.61  1.05  73.24  0.57  8.24  0.0  0.00            1\n",
       "8   1.51918  14.04  3.58  1.37  72.08  0.56  8.30  0.0  0.00            1\n",
       "9   1.51755  13.00  3.60  1.36  72.99  0.57  8.40  0.0  0.11            1\n",
       "10  1.51571  12.72  3.46  1.56  73.20  0.67  8.09  0.0  0.24            1\n",
       "11  1.51763  12.80  3.66  1.27  73.01  0.60  8.56  0.0  0.00            1\n",
       "12  1.51589  12.88  3.43  1.40  73.28  0.69  8.05  0.0  0.24            1\n",
       "13  1.51748  12.86  3.56  1.27  73.21  0.54  8.38  0.0  0.17            1\n",
       "14  1.51763  12.61  3.59  1.31  73.29  0.58  8.50  0.0  0.00            1"
      ]
     },
     "execution_count": 102,
     "metadata": {},
     "output_type": "execute_result"
    }
   ],
   "source": [
    "data.head(15)"
   ]
  },
  {
   "cell_type": "code",
   "execution_count": 103,
   "metadata": {},
   "outputs": [
    {
     "data": {
      "text/html": [
       "<div>\n",
       "<style>\n",
       "    .dataframe thead tr:only-child th {\n",
       "        text-align: right;\n",
       "    }\n",
       "\n",
       "    .dataframe thead th {\n",
       "        text-align: left;\n",
       "    }\n",
       "\n",
       "    .dataframe tbody tr th {\n",
       "        vertical-align: top;\n",
       "    }\n",
       "</style>\n",
       "<table border=\"1\" class=\"dataframe\">\n",
       "  <thead>\n",
       "    <tr style=\"text-align: right;\">\n",
       "      <th></th>\n",
       "      <th>RI</th>\n",
       "      <th>Na</th>\n",
       "      <th>Mg</th>\n",
       "      <th>Al</th>\n",
       "      <th>Si</th>\n",
       "      <th>K</th>\n",
       "      <th>Ca</th>\n",
       "      <th>Ba</th>\n",
       "      <th>Fe</th>\n",
       "      <th>TypeofGlass</th>\n",
       "    </tr>\n",
       "  </thead>\n",
       "  <tbody>\n",
       "    <tr>\n",
       "      <th>count</th>\n",
       "      <td>214.000000</td>\n",
       "      <td>214.000000</td>\n",
       "      <td>214.000000</td>\n",
       "      <td>214.000000</td>\n",
       "      <td>214.000000</td>\n",
       "      <td>214.000000</td>\n",
       "      <td>214.000000</td>\n",
       "      <td>214.000000</td>\n",
       "      <td>214.000000</td>\n",
       "      <td>214.000000</td>\n",
       "    </tr>\n",
       "    <tr>\n",
       "      <th>mean</th>\n",
       "      <td>1.518365</td>\n",
       "      <td>13.407850</td>\n",
       "      <td>2.684533</td>\n",
       "      <td>1.444907</td>\n",
       "      <td>72.650935</td>\n",
       "      <td>0.497056</td>\n",
       "      <td>8.956963</td>\n",
       "      <td>0.175047</td>\n",
       "      <td>0.057009</td>\n",
       "      <td>2.780374</td>\n",
       "    </tr>\n",
       "    <tr>\n",
       "      <th>std</th>\n",
       "      <td>0.003037</td>\n",
       "      <td>0.816604</td>\n",
       "      <td>1.442408</td>\n",
       "      <td>0.499270</td>\n",
       "      <td>0.774546</td>\n",
       "      <td>0.652192</td>\n",
       "      <td>1.423153</td>\n",
       "      <td>0.497219</td>\n",
       "      <td>0.097439</td>\n",
       "      <td>2.103739</td>\n",
       "    </tr>\n",
       "    <tr>\n",
       "      <th>min</th>\n",
       "      <td>1.511150</td>\n",
       "      <td>10.730000</td>\n",
       "      <td>0.000000</td>\n",
       "      <td>0.290000</td>\n",
       "      <td>69.810000</td>\n",
       "      <td>0.000000</td>\n",
       "      <td>5.430000</td>\n",
       "      <td>0.000000</td>\n",
       "      <td>0.000000</td>\n",
       "      <td>1.000000</td>\n",
       "    </tr>\n",
       "    <tr>\n",
       "      <th>25%</th>\n",
       "      <td>1.516523</td>\n",
       "      <td>12.907500</td>\n",
       "      <td>2.115000</td>\n",
       "      <td>1.190000</td>\n",
       "      <td>72.280000</td>\n",
       "      <td>0.122500</td>\n",
       "      <td>8.240000</td>\n",
       "      <td>0.000000</td>\n",
       "      <td>0.000000</td>\n",
       "      <td>1.000000</td>\n",
       "    </tr>\n",
       "    <tr>\n",
       "      <th>50%</th>\n",
       "      <td>1.517680</td>\n",
       "      <td>13.300000</td>\n",
       "      <td>3.480000</td>\n",
       "      <td>1.360000</td>\n",
       "      <td>72.790000</td>\n",
       "      <td>0.555000</td>\n",
       "      <td>8.600000</td>\n",
       "      <td>0.000000</td>\n",
       "      <td>0.000000</td>\n",
       "      <td>2.000000</td>\n",
       "    </tr>\n",
       "    <tr>\n",
       "      <th>75%</th>\n",
       "      <td>1.519157</td>\n",
       "      <td>13.825000</td>\n",
       "      <td>3.600000</td>\n",
       "      <td>1.630000</td>\n",
       "      <td>73.087500</td>\n",
       "      <td>0.610000</td>\n",
       "      <td>9.172500</td>\n",
       "      <td>0.000000</td>\n",
       "      <td>0.100000</td>\n",
       "      <td>3.000000</td>\n",
       "    </tr>\n",
       "    <tr>\n",
       "      <th>max</th>\n",
       "      <td>1.533930</td>\n",
       "      <td>17.380000</td>\n",
       "      <td>4.490000</td>\n",
       "      <td>3.500000</td>\n",
       "      <td>75.410000</td>\n",
       "      <td>6.210000</td>\n",
       "      <td>16.190000</td>\n",
       "      <td>3.150000</td>\n",
       "      <td>0.510000</td>\n",
       "      <td>7.000000</td>\n",
       "    </tr>\n",
       "  </tbody>\n",
       "</table>\n",
       "</div>"
      ],
      "text/plain": [
       "               RI          Na          Mg          Al          Si           K  \\\n",
       "count  214.000000  214.000000  214.000000  214.000000  214.000000  214.000000   \n",
       "mean     1.518365   13.407850    2.684533    1.444907   72.650935    0.497056   \n",
       "std      0.003037    0.816604    1.442408    0.499270    0.774546    0.652192   \n",
       "min      1.511150   10.730000    0.000000    0.290000   69.810000    0.000000   \n",
       "25%      1.516523   12.907500    2.115000    1.190000   72.280000    0.122500   \n",
       "50%      1.517680   13.300000    3.480000    1.360000   72.790000    0.555000   \n",
       "75%      1.519157   13.825000    3.600000    1.630000   73.087500    0.610000   \n",
       "max      1.533930   17.380000    4.490000    3.500000   75.410000    6.210000   \n",
       "\n",
       "               Ca          Ba          Fe  TypeofGlass  \n",
       "count  214.000000  214.000000  214.000000   214.000000  \n",
       "mean     8.956963    0.175047    0.057009     2.780374  \n",
       "std      1.423153    0.497219    0.097439     2.103739  \n",
       "min      5.430000    0.000000    0.000000     1.000000  \n",
       "25%      8.240000    0.000000    0.000000     1.000000  \n",
       "50%      8.600000    0.000000    0.000000     2.000000  \n",
       "75%      9.172500    0.000000    0.100000     3.000000  \n",
       "max     16.190000    3.150000    0.510000     7.000000  "
      ]
     },
     "execution_count": 103,
     "metadata": {},
     "output_type": "execute_result"
    }
   ],
   "source": [
    "data.describe()"
   ]
  },
  {
   "cell_type": "markdown",
   "metadata": {
    "collapsed": true
   },
   "source": [
    "#Rata rata fitur SI adalah 72.65 dan rata rata fitur Fe adalah 0.057. Untuk menggunakan \n",
    "model logistic regression, disarankan bahwa fitur harus memiliki skala yang sama. Untuk membuktikannya kita akan coba, dengan model ini. Untuk melihat distribusi data berdasarkan tipe:"
   ]
  },
  {
   "cell_type": "code",
   "execution_count": 104,
   "metadata": {
    "scrolled": true
   },
   "outputs": [
    {
     "data": {
      "text/plain": [
       "2    76\n",
       "1    70\n",
       "7    29\n",
       "3    17\n",
       "5    13\n",
       "6     9\n",
       "Name: TypeofGlass, dtype: int64"
      ]
     },
     "execution_count": 104,
     "metadata": {},
     "output_type": "execute_result"
    }
   ],
   "source": [
    "data['TypeofGlass'].value_counts()"
   ]
  },
  {
   "cell_type": "markdown",
   "metadata": {},
   "source": [
    "Dataset ini tidak imbang, dataset yang paling banyak adalah tipe glass 1 dan 2 "
   ]
  },
  {
   "cell_type": "markdown",
   "metadata": {},
   "source": [
    "###### 2. Data Preprocessing, mencari dan menghilangkan multiple outliers"
   ]
  },
  {
   "cell_type": "markdown",
   "metadata": {},
   "source": [
    "#outlier adalah data yang menyimpang terlalu jauh dari data yang lainnya dalam suatu rangkaian data. \n",
    "Untuk menghilangkannya kita gunakan metode Turkey.\n",
    "\n",
    "Melihat fitur yang memiliki koefisien miring tertinggi."
   ]
  },
  {
   "cell_type": "code",
   "execution_count": 105,
   "metadata": {},
   "outputs": [
    {
     "data": {
      "image/png": "[encoded data removed]",
      "text/plain": [
       "<matplotlib.figure.Figure at 0x17c22c41390>"
      ]
     },
     "metadata": {},
     "output_type": "display_data"
    },
    {
     "data": {
      "image/png": "[encoded data removed]",
      "text/plain": [
       "<matplotlib.figure.Figure at 0x17c2312d9b0>"
      ]
     },
     "metadata": {},
     "output_type": "display_data"
    },
    {
     "data": {
      "image/png": "[encoded data removed]",
      "text/plain": [
       "<matplotlib.figure.Figure at 0x17c219fecc0>"
      ]
     },
     "metadata": {},
     "output_type": "display_data"
    },
    {
     "data": {
      "image/png": "[encoded data removed]",
      "text/plain": [
       "<matplotlib.figure.Figure at 0x17c230f08d0>"
      ]
     },
     "metadata": {},
     "output_type": "display_data"
    },
    {
     "data": {
      "image/png": "[encoded data removed]",
      "text/plain": [
       "<matplotlib.figure.Figure at 0x17c22bf0c88>"
      ]
     },
     "metadata": {},
     "output_type": "display_data"
    },
    {
     "data": {
      "image/png": "[encoded data removed]",
      "text/plain": [
       "<matplotlib.figure.Figure at 0x17c22c41dd8>"
      ]
     },
     "metadata": {},
     "output_type": "display_data"
    },
    {
     "data": {
      "image/png": "[encoded data removed]",
      "text/plain": [
       "<matplotlib.figure.Figure at 0x17c230fbfd0>"
      ]
     },
     "metadata": {},
     "output_type": "display_data"
    },
    {
     "data": {
      "image/png": "[encoded data removed]",
      "text/plain": [
       "<matplotlib.figure.Figure at 0x17c21340710>"
      ]
     },
     "metadata": {},
     "output_type": "display_data"
    },
    {
     "data": {
      "image/png": "[encoded data removed]",
      "text/plain": [
       "<matplotlib.figure.Figure at 0x17c217ac358>"
      ]
     },
     "metadata": {},
     "output_type": "display_data"
    }
   ],
   "source": [
    "for feat in features:\n",
    "    skew = data[feat].skew()\n",
    "    sns.distplot(data[feat], kde= False, label='Skew = %.3f' %(skew), bins=30)\n",
    "    plt.legend(loc='best')\n",
    "    plt.show()"
   ]
  },
  {
   "cell_type": "code",
   "execution_count": 106,
   "metadata": {
    "scrolled": true
   },
   "outputs": [
    {
     "name": "stdout",
     "output_type": "stream",
     "text": [
      "dataset ini terdiri dari 14 baris observasi dengan lebih dari 2 outliers\n"
     ]
    }
   ],
   "source": [
    "# Detect observations with more than one outlier\n",
    "\n",
    "def outlier_hunt(data):\n",
    "    \"\"\"\n",
    "    Takes a dataframe data of features and returns a list of the indices\n",
    "    corresponding to the observations containing more than 2 outliers. \n",
    "    \"\"\"\n",
    "    outlier_indices = []\n",
    "    \n",
    "    # iterate over features(columns)\n",
    "    for col in data.columns.tolist():\n",
    "        # 1st quartile (25%)\n",
    "        Q1 = np.percentile(data[col], 25)\n",
    "        \n",
    "        # 3rd quartile (75%)\n",
    "        Q3 = np.percentile(data[col],75)\n",
    "        \n",
    "        # Interquartile rrange (IQR)\n",
    "        IQR = Q3 - Q1\n",
    "        \n",
    "        # outlier step\n",
    "        outlier_step = 1.5 * IQR\n",
    "        \n",
    "        # Determine a list of indices of outliers for feature col\n",
    "        outlier_list_col = data[(data[col] < Q1 - outlier_step) | (data[col] > Q3 + outlier_step )].index\n",
    "        \n",
    "        # append the found outlier indices for col to the list of outlier indices \n",
    "        outlier_indices.extend(outlier_list_col)\n",
    "        \n",
    "    # select observations containing more than 2 outliers\n",
    "    outlier_indices = Counter(outlier_indices)        \n",
    "    multiple_outliers = list( k for k, v in outlier_indices.items() if v > 2 )\n",
    "    \n",
    "    return multiple_outliers   \n",
    "\n",
    "print('dataset ini terdiri dari %d baris observasi dengan lebih dari 2 outliers' %(len(outlier_hunt(data[features]))))   "
   ]
  },
  {
   "cell_type": "markdown",
   "metadata": {},
   "source": [
    "#terdapat 14 baris observasi dengan banyak outliers, \n",
    "hal ini dapat menggangu efisiensi dari model algoritma \n",
    "yang akan digunakan"
   ]
  },
  {
   "cell_type": "code",
   "execution_count": 107,
   "metadata": {
    "scrolled": true
   },
   "outputs": [
    {
     "name": "stdout",
     "output_type": "stream",
     "text": [
      "<class 'pandas.core.frame.DataFrame'>\n",
      "RangeIndex: 214 entries, 0 to 213\n",
      "Data columns (total 10 columns):\n",
      "RI             214 non-null float64\n",
      "Na             214 non-null float64\n",
      "Mg             214 non-null float64\n",
      "Al             214 non-null float64\n",
      "Si             214 non-null float64\n",
      "K              214 non-null float64\n",
      "Ca             214 non-null float64\n",
      "Ba             214 non-null float64\n",
      "Fe             214 non-null float64\n",
      "TypeofGlass    214 non-null int64\n",
      "dtypes: float64(9), int64(1)\n",
      "memory usage: 16.8 KB\n"
     ]
    }
   ],
   "source": [
    "data.info()"
   ]
  },
  {
   "cell_type": "markdown",
   "metadata": {},
   "source": [
    "# Menghilangkan data dengan outliers yang lebih dari 2, menyisakan sebesar 200 data"
   ]
  },
  {
   "cell_type": "code",
   "execution_count": 108,
   "metadata": {},
   "outputs": [
    {
     "name": "stdout",
     "output_type": "stream",
     "text": [
      "(200, 10)\n"
     ]
    }
   ],
   "source": [
    "outlier_indices = outlier_hunt(data[features])\n",
    "data = data.drop(outlier_indices).reset_index(drop=True)\n",
    "print(data.shape)"
   ]
  },
  {
   "cell_type": "code",
   "execution_count": 109,
   "metadata": {
    "scrolled": true
   },
   "outputs": [
    {
     "data": {
      "image/png": "[encoded data removed]",
      "text/plain": [
       "<matplotlib.figure.Figure at 0x17c20d02470>"
      ]
     },
     "metadata": {},
     "output_type": "display_data"
    }
   ],
   "source": [
    "sns.countplot(data['TypeofGlass'])\n",
    "plt.show()"
   ]
  },
  {
   "cell_type": "markdown",
   "metadata": {},
   "source": [
    "# Split-out validation dataset"
   ]
  },
  {
   "cell_type": "markdown",
   "metadata": {},
   "source": [
    "memisahkan data training dan data test, kita mengambil data test sebanyak 25% dari data, berarti terdapat 50 dataset untuk test\n"
   ]
  },
  {
   "cell_type": "code",
   "execution_count": 110,
   "metadata": {
    "collapsed": true
   },
   "outputs": [],
   "source": [
    "#Define X as features and y as lablels\n",
    "feature = data[features] \n",
    "label = data['TypeofGlass'] \n",
    "# set a seed and a test size for splitting the dataset \n",
    "#metode seed akan menginisialisasi nilai yang akan digunakan untuk mengenerate nomor random, kita gunakan 7\n",
    "seed = 7\n",
    "test_size = 0.25\n",
    "\n",
    "X_train, X_test, y_train, y_test = train_test_split(feature, label, test_size = test_size , random_state = seed)"
   ]
  },
  {
   "cell_type": "markdown",
   "metadata": {},
   "source": [
    "###### 3 Pembuatan dan Evaluasi Model"
   ]
  },
  {
   "cell_type": "markdown",
   "metadata": {},
   "source": [
    "#Mencari algoritma yang terbaik untuk digunakan dengan dataset kaca,dan akan digunakan model evaluasi k-fold cross validation dengan jumlah fold 10\n",
    "n_splits adalah berapa jumlah iterasi yang akan terjadi pada cross validasi,shuffle dan random state untuk membuat split test dataset kfold lebih baik"
   ]
  },
  {
   "cell_type": "code",
   "execution_count": 111,
   "metadata": {
    "collapsed": true
   },
   "outputs": [],
   "source": [
    "#Pembuatan Model untuk dievaluasi dan dipilih model yang terbaik\n",
    "modelLogReg=LogisticRegression()\n",
    "modelRForest=RandomForestClassifier(n_estimators=200,random_state=seed)\n",
    "#memainkan dengan parameter untuk mencari hasil score terbaik\n",
    "modelDTree=DecisionTreeClassifier()\n",
    "modelKnn=KNeighborsClassifier()"
   ]
  },
  {
   "cell_type": "markdown",
   "metadata": {},
   "source": [
    "# Cross Validation Score"
   ]
  },
  {
   "cell_type": "code",
   "execution_count": 112,
   "metadata": {
    "scrolled": true
   },
   "outputs": [
    {
     "name": "stdout",
     "output_type": "stream",
     "text": [
      "Cross Validation Score [LogReg]: [ 0.55  0.7   0.65  0.55  0.75  0.8   0.75  0.55  0.6   0.65]\n",
      "Rata Rata Cross Validation Score LogReg 0.655000\n",
      "-----------------------------------------------------------------------------\n",
      "Cross Validation Score [RandomForestClassifier]: [ 0.7   0.8   0.7   0.75  0.8   0.9   0.85  0.8   0.8   0.7 ]\n",
      "Rata Rata Cross Validation Score RandomForestClassifier 0.780000\n",
      "-----------------------------------------------------------------------------\n",
      "Cross Validation Score [DecisionTreeClassifier]: [ 0.7   0.6   0.65  0.65  0.6   0.7   0.6   0.65  0.5   0.75]\n",
      "Rata Rata Cross Validation Score DecisionTreeClassifier 0.640000\n",
      "-----------------------------------------------------------------------------\n",
      "Cross Validation Score [KnnClassifier]: [ 0.65  0.65  0.75  0.6   0.7   0.8   0.65  0.55  0.65  0.75]\n",
      "Rata Rata Cross Validation Score KnnClassifier 0.675000\n"
     ]
    }
   ],
   "source": [
    "from sklearn.model_selection import KFold\n",
    "\n",
    "kfold=KFold(n_splits=10,shuffle=True,random_state=0)\n",
    "#Scoring Model dengan \n",
    "\n",
    "scoreKfoldLogReg=cross_val_score(modelLogReg,feature,label,cv=kfold)\n",
    "scorekfoldRForest=cross_val_score(modelRForest,feature,label,cv=kfold)\n",
    "scorekfoldDTree=cross_val_score(modelDTree,feature,label,cv=kfold)\n",
    "scorekfoldKnn=cross_val_score(modelKnn,feature,label,cv=kfold)\n",
    "\n",
    "\n",
    "print(\"Cross Validation Score [LogReg]: {}\".format(scoreKfoldLogReg))\n",
    "print(\"Rata Rata Cross Validation Score LogReg {:2f}\".format(scoreKfoldLogReg.mean()))\n",
    "print(\"-----------------------------------------------------------------------------\")\n",
    "print(\"Cross Validation Score [RandomForestClassifier]: {}\".format(scorekfoldRForest))\n",
    "print(\"Rata Rata Cross Validation Score RandomForestClassifier {:2f}\".format(scorekfoldRForest.mean()))\n",
    "print(\"-----------------------------------------------------------------------------\")\n",
    "print(\"Cross Validation Score [DecisionTreeClassifier]: {}\".format(scorekfoldDTree))\n",
    "print(\"Rata Rata Cross Validation Score DecisionTreeClassifier {:2f}\".format(scorekfoldDTree.mean()))\n",
    "print(\"-----------------------------------------------------------------------------\")\n",
    "print(\"Cross Validation Score [KnnClassifier]: {}\".format(scorekfoldKnn))\n",
    "print(\"Rata Rata Cross Validation Score KnnClassifier {:2f}\".format(scorekfoldKnn.mean()))"
   ]
  },
  {
   "cell_type": "markdown",
   "metadata": {},
   "source": [
    "# Confussion Matrix"
   ]
  },
  {
   "cell_type": "code",
   "execution_count": 113,
   "metadata": {},
   "outputs": [
    {
     "name": "stdout",
     "output_type": "stream",
     "text": [
      "Confusion matrix Logistic Regression: \n",
      "[[13  1  0  0  0  0]\n",
      " [ 9 11  0  2  0  0]\n",
      " [ 2  2  0  0  0  0]\n",
      " [ 0  0  0  1  0  0]\n",
      " [ 0  1  0  0  0  0]\n",
      " [ 0  0  0  1  0  7]]\n",
      "Confusion matrix Random Forest: \n",
      "[[13  1  0  0  0  0]\n",
      " [ 3 16  1  2  0  0]\n",
      " [ 1  1  2  0  0  0]\n",
      " [ 0  0  0  1  0  0]\n",
      " [ 0  0  0  0  1  0]\n",
      " [ 0  0  0  1  0  7]]\n",
      "Confusion matrix Decission Tree: \n",
      "[[11  1  2  0  0  0]\n",
      " [ 7 10  2  2  0  1]\n",
      " [ 0  1  3  0  0  0]\n",
      " [ 0  0  0  1  0  0]\n",
      " [ 0  0  0  0  1  0]\n",
      " [ 0  0  0  1  0  7]]\n",
      "Confusion matrix Knn: \n",
      "[[13  0  1  0  0  0]\n",
      " [ 8 11  0  1  2  0]\n",
      " [ 3  0  1  0  0  0]\n",
      " [ 0  0  0  1  0  0]\n",
      " [ 0  0  0  0  1  0]\n",
      " [ 0  1  0  0  1  6]]\n"
     ]
    }
   ],
   "source": [
    "#evaluasi terkait prediksi dari model yang sudah dibuat dengan confusion_matrix\n",
    "\n",
    "\n",
    "modelLogReg.fit(X_train,y_train)\n",
    "predict_logReg=modelLogReg.predict(X_test)\n",
    "\n",
    "\n",
    "modelRForest.fit(X_train,y_train)\n",
    "predict_RForest=modelRForest.predict(X_test)\n",
    "\n",
    "modelDTree.fit(X_train,y_train)\n",
    "predict_Dtree=modelDTree.predict(X_test)\n",
    "\n",
    "\n",
    "modelKnn.fit(X_train,y_train)\n",
    "predict_Knn=modelKnn.predict(X_test)\n",
    "\n",
    "\n",
    "from sklearn.metrics import confusion_matrix\n",
    "confusionLogReg=confusion_matrix(y_test,predict_logReg)\n",
    "print(\"Confusion matrix Logistic Regression: \\n{}\".format(confusionLogReg))\n",
    "\n",
    "confusionRforest=confusion_matrix(y_test,predict_RForest)\n",
    "print(\"Confusion matrix Random Forest: \\n{}\".format(confusionRforest))\n",
    "      \n",
    "confusionDtree=confusion_matrix(y_test,predict_Dtree)\n",
    "print(\"Confusion matrix Decission Tree: \\n{}\".format(confusionDtree))\n",
    "      \n",
    "confusionKnn=confusion_matrix(y_test,predict_Knn)\n",
    "print(\"Confusion matrix Knn: \\n{}\".format(confusionKnn))"
   ]
  },
  {
   "cell_type": "code",
   "execution_count": 114,
   "metadata": {},
   "outputs": [
    {
     "name": "stdout",
     "output_type": "stream",
     "text": [
      "Confusion matrix, without normalization\n",
      "[[13  1  0  0  0  0]\n",
      " [ 3 16  1  2  0  0]\n",
      " [ 1  1  2  0  0  0]\n",
      " [ 0  0  0  1  0  0]\n",
      " [ 0  0  0  0  1  0]\n",
      " [ 0  0  0  1  0  7]]\n"
     ]
    },
    {
     "data": {
      "image/png": "[encoded data removed]",
      "text/plain": [
       "<matplotlib.figure.Figure at 0x17c216a4da0>"
      ]
     },
     "metadata": {},
     "output_type": "display_data"
    }
   ],
   "source": [
    "import matplotlib.pyplot as plt\n",
    "import itertools\n",
    "def plot_confusion_matrix(cm, classes,\n",
    "                          normalize=False,\n",
    "                          title='Confusion matrix',\n",
    "                          cmap=plt.cm.Blues):\n",
    "    \"\"\"\n",
    "    This function prints and plots the confusion matrix.\n",
    "    Normalization can be applied by setting `normalize=True`.\n",
    "    \"\"\"\n",
    "    if normalize:\n",
    "        cm = cm.astype('float') / cm.sum(axis=1)[:, np.newaxis]\n",
    "        print(\"Normalized confusion matrix\")\n",
    "    else:\n",
    "        print('Confusion matrix, without normalization')\n",
    "\n",
    "    print(cm)\n",
    "\n",
    "    plt.imshow(cm, interpolation='nearest', cmap=cmap)\n",
    "    plt.title(title)\n",
    "    plt.colorbar()\n",
    "    tick_marks = np.arange(len(classes))\n",
    "    plt.xticks(tick_marks, classes, rotation=45)\n",
    "    plt.yticks(tick_marks, classes)\n",
    "\n",
    "    fmt = '.2f' if normalize else 'd'\n",
    "    thresh = cm.max() / 2.\n",
    "    for i, j in itertools.product(range(cm.shape[0]), range(cm.shape[1])):\n",
    "        plt.text(j, i, format(cm[i, j], fmt),\n",
    "                 horizontalalignment=\"center\",\n",
    "                 color=\"white\" if cm[i, j] > thresh else \"black\")\n",
    "\n",
    "    plt.tight_layout()\n",
    "    plt.ylabel('True label')\n",
    "    plt.xlabel('Predicted label')\n",
    "    \n",
    "    \n",
    "plt.figure()\n",
    "plot_confusion_matrix(confusionRforest, classes=label,\n",
    "                      title='Confusion matrix, without normalization')\n",
    "\n",
    "\n",
    "plt.show()"
   ]
  },
  {
   "cell_type": "markdown",
   "metadata": {},
   "source": [
    "# Recall Score\n",
    "\n",
    "nilai recall adalah rasio tp / (tp + fn) di mana tp adalah jumlah true positive dan fn jumlah false negative.\n",
    "nilai recall  secara intuitif adalah kemampuan pengklasifikasi untuk menemukan semua sampel positif.\n",
    "\n",
    "Nilai terbaik adalah 1 dan nilai terburuknya adalah 0.\n",
    "\n",
    "parameter rata rata menggunakan macro: menghitung metrik secara mandiri untuk setiap kelas dan kemudian mengambil rata-rata (sehingga memperlakukan semua kelas dengan sama)"
   ]
  },
  {
   "cell_type": "code",
   "execution_count": 115,
   "metadata": {},
   "outputs": [
    {
     "name": "stdout",
     "output_type": "stream",
     "text": [
      "recall score logistic regression 0.55\n",
      "recall score Random Forest :0.84\n",
      "recall score Decission Tree :0.81\n",
      "recall score knn :0.74\n"
     ]
    }
   ],
   "source": [
    "from sklearn.metrics import recall_score\n",
    "\n",
    "print(\"recall score logistic regression {:.2f}\".format(recall_score(y_test,predict_logReg,average='macro')))\n",
    "print(\"recall score Random Forest :{:.2f}\".format(recall_score(y_test,predict_RForest,average='macro')))\n",
    "print(\"recall score Decission Tree :{:.2f}\".format(recall_score(y_test,predict_Dtree,average='macro')))\n",
    "print(\"recall score knn :{:.2f}\".format(recall_score(y_test,predict_Knn,average='macro')))\n"
   ]
  },
  {
   "cell_type": "markdown",
   "metadata": {},
   "source": [
    "# Precision Score\n",
    "\n",
    "Precision secara intuitif adalah kemampuan pengklasifikasi untuk tidak memberi label positif sebagai sampel yang negatif.\n",
    "\n",
    "Nilai terbaik adalah 1 dan nilai terburuknya adalah 0.\n",
    "\n",
    "parameter rata rata menggunakan macro: menghitung metrik secara mandiri untuk setiap kelas dan kemudian mengambil rata-rata (sehingga memperlakukan semua kelas dengan sama)"
   ]
  },
  {
   "cell_type": "code",
   "execution_count": 116,
   "metadata": {},
   "outputs": [
    {
     "name": "stdout",
     "output_type": "stream",
     "text": [
      "precission score logistic regression 0.42\n",
      "precission score Random Forest :0.76\n",
      "precission score Decission Tree :0.67\n",
      "precission score knn :0.62\n"
     ]
    },
    {
     "name": "stderr",
     "output_type": "stream",
     "text": [
      "C:\\tools\\Anaconda3\\lib\\site-packages\\sklearn\\metrics\\classification.py:1135: UndefinedMetricWarning: Precision is ill-defined and being set to 0.0 in labels with no predicted samples.\n",
      "  'precision', 'predicted', average, warn_for)\n"
     ]
    }
   ],
   "source": [
    "from sklearn.metrics import precision_score\n",
    "\n",
    "\n",
    "print(\"precission score logistic regression {:.2f}\".format(precision_score(y_test,predict_logReg,average='macro')))\n",
    "print(\"precission score Random Forest :{:.2f}\".format(precision_score(y_test,predict_RForest,average='macro')))\n",
    "print(\"precission score Decission Tree :{:.2f}\".format(precision_score(y_test,predict_Dtree,average='macro')))\n",
    "print(\"precission score knn :{:.2f}\".format(precision_score(y_test,predict_Knn,average='macro')))"
   ]
  },
  {
   "cell_type": "markdown",
   "metadata": {},
   "source": [
    "# f1 score\n",
    "Skor F1 dapat diartikan sebagai rata-rata tertimbang dari nilai precision dan nilai recall, \n",
    "di mana skor F1 mencapai nilai terbaiknya pada 1 dan skor terburuk di 0. \n",
    "Kontribusi relatif dari presisi dan recall ke skor F1 adalah sama.\n",
    "\n",
    "\n",
    "parameter rata rata menggunakan macro: menghitung metrik secara mandiri untuk setiap kelas dan kemudian mengambil rata-rata (sehingga memperlakukan semua kelas dengan sama)"
   ]
  },
  {
   "cell_type": "code",
   "execution_count": 117,
   "metadata": {},
   "outputs": [
    {
     "name": "stdout",
     "output_type": "stream",
     "text": [
      "f1 score logistic regression 0.44\n",
      "f1 score Random Forest :0.76\n",
      "f1 score Decission Tree :0.68\n",
      "f1 score knn :0.60\n"
     ]
    },
    {
     "name": "stderr",
     "output_type": "stream",
     "text": [
      "C:\\tools\\Anaconda3\\lib\\site-packages\\sklearn\\metrics\\classification.py:1135: UndefinedMetricWarning: F-score is ill-defined and being set to 0.0 in labels with no predicted samples.\n",
      "  'precision', 'predicted', average, warn_for)\n"
     ]
    }
   ],
   "source": [
    "from sklearn.metrics import f1_score\n",
    "\n",
    "\n",
    "print(\"f1 score logistic regression {:.2f}\".format(f1_score(y_test,predict_logReg,average='macro')))\n",
    "print(\"f1 score Random Forest :{:.2f}\".format(f1_score(y_test,predict_RForest,average='macro')))\n",
    "print(\"f1 score Decission Tree :{:.2f}\".format(f1_score(y_test,predict_Dtree,average='macro')))\n",
    "print(\"f1 score knn :{:.2f}\".format(f1_score(y_test,predict_Knn,average='macro')))"
   ]
  },
  {
   "cell_type": "markdown",
   "metadata": {},
   "source": [
    "# Accuracy Score\n",
    "Fungsi accuracy_score menghitung akurasi, baik fraksi (default) atau hitungan (menormalkan = False) dari prediksi yang benar.\n",
    "\n",
    "Dalam klasifikasi multilabel, fungsi mengembalikan akurasi subset. Jika seluruh rangkaian label prediksi untuk sampel secara ketat sesuai dengan kumpulan label yang benar, maka akurasi subset adalah 1,0; selain itu adalah 0,0.\n",
    "\n",
    "normalisasi adalah false, akan kembalikan jumlah sampel yang diklasifikasikan dengan benar. Jika tidak, kembalikan pecahan dari sampel yang diklasifikasikan dengan benar.\n"
   ]
  },
  {
   "cell_type": "code",
   "execution_count": 118,
   "metadata": {},
   "outputs": [
    {
     "name": "stdout",
     "output_type": "stream",
     "text": [
      "akurasi score logistic regression 32.00\n",
      "akurasi score Random Forest :40.00\n",
      "akurasi score Decission Tree :33.00\n",
      "akurasi score knn :33.00\n"
     ]
    }
   ],
   "source": [
    "from sklearn.metrics import accuracy_score\n",
    "\n",
    "\n",
    "print(\"akurasi score logistic regression {:.2f}\".format(accuracy_score(y_test,predict_logReg,normalize=False)))\n",
    "print(\"akurasi score Random Forest :{:.2f}\".format(accuracy_score(y_test,predict_RForest,normalize=False)))\n",
    "print(\"akurasi score Decission Tree :{:.2f}\".format(accuracy_score(y_test,predict_Dtree,normalize=False)))\n",
    "print(\"akurasi score knn :{:.2f}\".format(accuracy_score(y_test,predict_Knn,normalize=False)))"
   ]
  },
  {
   "cell_type": "code",
   "execution_count": 119,
   "metadata": {},
   "outputs": [
    {
     "name": "stderr",
     "output_type": "stream",
     "text": [
      "C:\\tools\\Anaconda3\\lib\\site-packages\\sklearn\\model_selection\\_split.py:605: Warning: The least populated class in y has only 7 members, which is too few. The minimum number of members in any class cannot be less than n_splits=10.\n",
      "  % (min_groups, self.n_splits)), Warning)\n"
     ]
    },
    {
     "name": "stdout",
     "output_type": "stream",
     "text": [
      "DT: 66.070941 (+/- 14.556065) performed in 13.419098 seconds\n"
     ]
    },
    {
     "name": "stderr",
     "output_type": "stream",
     "text": [
      "C:\\tools\\Anaconda3\\lib\\site-packages\\sklearn\\model_selection\\_split.py:605: Warning: The least populated class in y has only 7 members, which is too few. The minimum number of members in any class cannot be less than n_splits=10.\n",
      "  % (min_groups, self.n_splits)), Warning)\n"
     ]
    },
    {
     "name": "stdout",
     "output_type": "stream",
     "text": [
      "KNN: 65.874949 (+/- 11.949835) performed in 15.340097 seconds\n"
     ]
    },
    {
     "name": "stderr",
     "output_type": "stream",
     "text": [
      "C:\\tools\\Anaconda3\\lib\\site-packages\\sklearn\\model_selection\\_split.py:605: Warning: The least populated class in y has only 7 members, which is too few. The minimum number of members in any class cannot be less than n_splits=10.\n",
      "  % (min_groups, self.n_splits)), Warning)\n"
     ]
    },
    {
     "name": "stdout",
     "output_type": "stream",
     "text": [
      "RF: 76.927516 (+/- 11.402392) performed in 16.487599 seconds\n"
     ]
    },
    {
     "name": "stderr",
     "output_type": "stream",
     "text": [
      "C:\\tools\\Anaconda3\\lib\\site-packages\\sklearn\\model_selection\\_split.py:605: Warning: The least populated class in y has only 7 members, which is too few. The minimum number of members in any class cannot be less than n_splits=10.\n",
      "  % (min_groups, self.n_splits)), Warning)\n"
     ]
    },
    {
     "name": "stdout",
     "output_type": "stream",
     "text": [
      "LR: 71.795540 (+/- 8.815315) performed in 15.949418 seconds\n"
     ]
    },
    {
     "data": {
      "image/png": "[encoded data removed]",
      "text/plain": [
       "<matplotlib.figure.Figure at 0x17c219893c8>"
      ]
     },
     "metadata": {},
     "output_type": "display_data"
    }
   ],
   "source": [
    "n_components = 5\n",
    "pipelines = []\n",
    "n_estimators = 200\n",
    "\n",
    "#print(df.shape)\n",
    "pipelines.append( ('DT',\n",
    "                   Pipeline([\n",
    "                              ('sc', StandardScaler()),\n",
    "#                               ('pca', PCA(n_components = n_components, random_state=seed ) ),\n",
    "                             ('DT', DecisionTreeClassifier(random_state=seed))]) ) )\n",
    "\n",
    "\n",
    "pipelines.append(('KNN',\n",
    "                  Pipeline([ \n",
    "                              ('sc', StandardScaler()),\n",
    "#                             ('pca', PCA(n_components = n_components, random_state=seed ) ),\n",
    "                            ('KNN', KNeighborsClassifier()) ])))\n",
    "pipelines.append( ('RF',\n",
    "                   Pipeline([\n",
    "                              ('sc', StandardScaler()),\n",
    "#                              ('pca', PCA(n_components = n_components, random_state=seed ) ), \n",
    "                             ('RF', RandomForestClassifier(random_state=seed, n_estimators=n_estimators)) ]) ))\n",
    "\n",
    "pipelines.append( ('LR',\n",
    "                   Pipeline([\n",
    "                              ('sc', StandardScaler()),\n",
    "#                               ('pca', PCA(n_components = n_components, random_state=seed ) ), \n",
    "                             ('LR', LogisticRegression(random_state=seed)) ]) ))\n",
    "\n",
    "\n",
    "\n",
    "results, names, times  = [], [] , []\n",
    "num_folds = 10\n",
    "scoring = 'accuracy'\n",
    "\n",
    "for name, model in pipelines:\n",
    "    start = time()\n",
    "    kfold = StratifiedKFold(n_splits=num_folds, random_state=seed)\n",
    "    cv_results = cross_val_score(model, X_train, y_train, cv=kfold, scoring = scoring,\n",
    "                                n_jobs=-1) \n",
    "    t_elapsed = time() - start\n",
    "    results.append(cv_results)\n",
    "    names.append(name)\n",
    "    times.append(t_elapsed)\n",
    "    msg = \"%s: %f (+/- %f) performed in %f seconds\" % (name, 100*cv_results.mean(), \n",
    "                                                       100*cv_results.std(), t_elapsed)\n",
    "    print(msg)\n",
    "\n",
    "fig = plt.figure(figsize=(12,8))    \n",
    "fig.suptitle(\"Algorithms comparison\")\n",
    "ax = fig.add_subplot(1,1,1)\n",
    "plt.boxplot(results)\n",
    "ax.set_xticklabels(names)\n",
    "plt.show()"
   ]
  },
  {
   "cell_type": "markdown",
   "metadata": {},
   "source": [
    "# Model/algoritma yang memiliki performa terbaik jatuh kepada model random forest\n",
    "random forest juga menghasilkan distribusi yang luas.\n",
    "\n",
    "dengan hasil score:"
   ]
  },
  {
   "cell_type": "markdown",
   "metadata": {},
   "source": [
    "\n",
    "Cross validation score :  0.78\n"
   ]
  },
  {
   "cell_type": "markdown",
   "metadata": {},
   "source": [
    "\n",
    "Precision Score: 0.76"
   ]
  },
  {
   "cell_type": "markdown",
   "metadata": {},
   "source": [
    "Recall Score: 0.84"
   ]
  },
  {
   "cell_type": "markdown",
   "metadata": {},
   "source": [
    "F1 score :  0.76"
   ]
  },
  {
   "cell_type": "markdown",
   "metadata": {},
   "source": [
    "Akurasi score: 40.00"
   ]
  },
  {
   "cell_type": "code",
   "execution_count": 120,
   "metadata": {},
   "outputs": [
    {
     "name": "stdout",
     "output_type": "stream",
     "text": [
      "Confusion matrix Random Forest: \n",
      "[[13  1  0  0  0  0]\n",
      " [ 3 16  1  2  0  0]\n",
      " [ 1  1  2  0  0  0]\n",
      " [ 0  0  0  1  0  0]\n",
      " [ 0  0  0  0  1  0]\n",
      " [ 0  0  0  1  0  7]]\n"
     ]
    }
   ],
   "source": [
    "\n",
    "print(\"Confusion matrix Random Forest: \\n{}\".format(confusionRforest))"
   ]
  },
  {
   "cell_type": "markdown",
   "metadata": {},
   "source": [
    "###### 4 Membuat Model Machine Learning menggunakan Random Forest"
   ]
  },
  {
   "cell_type": "code",
   "execution_count": 121,
   "metadata": {},
   "outputs": [
    {
     "name": "stdout",
     "output_type": "stream",
     "text": [
      "Memprediksi akurasi dengan test set model Random Forest\n",
      "Accuracy Score: 0.8\n",
      "[2 3 1 1 7 2 2 2 1 1 2 1 1 1 5 1 1 1 3 1 7 2 3 2 7 6 2 7 2 7 1 5 5 2 2 2 2\n",
      " 7 2 2 2 2 1 5 1 1 1 7 1 2]\n",
      "86     2\n",
      "120    2\n",
      "22     1\n",
      "11     1\n",
      "195    7\n",
      "2      1\n",
      "121    2\n",
      "94     2\n",
      "66     1\n",
      "63     1\n",
      "108    2\n",
      "96     2\n",
      "138    2\n",
      "65     1\n",
      "188    7\n",
      "155    3\n",
      "24     1\n",
      "99     2\n",
      "153    3\n",
      "46     1\n",
      "178    7\n",
      "139    2\n",
      "143    3\n",
      "74     2\n",
      "186    7\n",
      "169    6\n",
      "101    2\n",
      "197    7\n",
      "109    2\n",
      "177    7\n",
      "57     1\n",
      "106    2\n",
      "160    5\n",
      "84     2\n",
      "124    2\n",
      "85     2\n",
      "126    2\n",
      "183    7\n",
      "80     2\n",
      "116    2\n",
      "129    2\n",
      "128    2\n",
      "60     1\n",
      "122    2\n",
      "27     1\n",
      "40     1\n",
      "45     1\n",
      "191    7\n",
      "31     1\n",
      "154    3\n",
      "Name: TypeofGlass, dtype: int64\n",
      "[Pipeline(memory=None,\n",
      "     steps=[('scaler', MinMaxScaler(copy=True, feature_range=(0, 1))), ('randomForest', RandomForestClassifier(bootstrap=True, class_weight=None, criterion='gini',\n",
      "            max_depth=None, max_features='auto', max_leaf_nodes=None,\n",
      "            min_impurity_decrease=0.0, min_impurity_split=None,\n",
      "            min_samples_leaf=1, min_samples_split=2,\n",
      "            min_weight_fraction_leaf=0.0, n_estimators=200, n_jobs=1,\n",
      "            oob_score=False, random_state=7, verbose=0, warm_start=False))]),           RI     Na    Mg    Al     Si     K     Ca    Ba    Fe  TypeofGlass\n",
      "0    1.52101  13.64  4.49  1.10  71.78  0.06   8.75  0.00  0.00            1\n",
      "1    1.51761  13.89  3.60  1.36  72.73  0.48   7.83  0.00  0.00            1\n",
      "2    1.51618  13.53  3.55  1.54  72.99  0.39   7.78  0.00  0.00            1\n",
      "3    1.51766  13.21  3.69  1.29  72.61  0.57   8.22  0.00  0.00            1\n",
      "4    1.51742  13.27  3.62  1.24  73.08  0.55   8.07  0.00  0.00            1\n",
      "5    1.51596  12.79  3.61  1.62  72.97  0.64   8.07  0.00  0.26            1\n",
      "6    1.51743  13.30  3.60  1.14  73.09  0.58   8.17  0.00  0.00            1\n",
      "7    1.51756  13.15  3.61  1.05  73.24  0.57   8.24  0.00  0.00            1\n",
      "8    1.51918  14.04  3.58  1.37  72.08  0.56   8.30  0.00  0.00            1\n",
      "9    1.51755  13.00  3.60  1.36  72.99  0.57   8.40  0.00  0.11            1\n",
      "10   1.51571  12.72  3.46  1.56  73.20  0.67   8.09  0.00  0.24            1\n",
      "11   1.51763  12.80  3.66  1.27  73.01  0.60   8.56  0.00  0.00            1\n",
      "12   1.51589  12.88  3.43  1.40  73.28  0.69   8.05  0.00  0.24            1\n",
      "13   1.51748  12.86  3.56  1.27  73.21  0.54   8.38  0.00  0.17            1\n",
      "14   1.51763  12.61  3.59  1.31  73.29  0.58   8.50  0.00  0.00            1\n",
      "15   1.51761  12.81  3.54  1.23  73.24  0.58   8.39  0.00  0.00            1\n",
      "16   1.51784  12.68  3.67  1.16  73.11  0.61   8.70  0.00  0.00            1\n",
      "17   1.52196  14.36  3.85  0.89  71.36  0.15   9.15  0.00  0.00            1\n",
      "18   1.51911  13.90  3.73  1.18  72.12  0.06   8.89  0.00  0.00            1\n",
      "19   1.51735  13.02  3.54  1.69  72.73  0.54   8.44  0.00  0.07            1\n",
      "20   1.51750  12.82  3.55  1.49  72.75  0.54   8.52  0.00  0.19            1\n",
      "21   1.51966  14.77  3.75  0.29  72.02  0.03   9.00  0.00  0.00            1\n",
      "22   1.51736  12.78  3.62  1.29  72.79  0.59   8.70  0.00  0.00            1\n",
      "23   1.51751  12.81  3.57  1.35  73.02  0.62   8.59  0.00  0.00            1\n",
      "24   1.51720  13.38  3.50  1.15  72.85  0.50   8.43  0.00  0.00            1\n",
      "25   1.51764  12.98  3.54  1.21  73.00  0.65   8.53  0.00  0.00            1\n",
      "26   1.51793  13.21  3.48  1.41  72.64  0.59   8.43  0.00  0.00            1\n",
      "27   1.51721  12.87  3.48  1.33  73.04  0.56   8.43  0.00  0.00            1\n",
      "28   1.51768  12.56  3.52  1.43  73.15  0.57   8.54  0.00  0.00            1\n",
      "29   1.51784  13.08  3.49  1.28  72.86  0.60   8.49  0.00  0.00            1\n",
      "..       ...    ...   ...   ...    ...   ...    ...   ...   ...          ...\n",
      "170  1.51852  14.09  2.19  1.66  72.67  0.00   9.32  0.00  0.00            6\n",
      "171  1.51299  14.40  1.74  1.54  74.55  0.00   7.59  0.00  0.00            6\n",
      "172  1.51888  14.99  0.78  1.74  72.50  0.00   9.95  0.00  0.00            6\n",
      "173  1.51916  14.15  0.00  2.09  72.74  0.00  10.88  0.00  0.00            6\n",
      "174  1.51969  14.56  0.00  0.56  73.48  0.00  11.22  0.00  0.00            6\n",
      "175  1.52315  13.44  3.34  1.23  72.38  0.60   8.83  0.00  0.00            7\n",
      "176  1.52247  14.86  2.20  2.06  70.26  0.76   9.76  0.00  0.00            7\n",
      "177  1.51613  13.88  1.78  1.79  73.10  0.00   8.67  0.76  0.00            7\n",
      "178  1.51602  14.85  0.00  2.38  73.28  0.00   8.76  0.64  0.09            7\n",
      "179  1.51623  14.20  0.00  2.79  73.46  0.04   9.04  0.40  0.09            7\n",
      "180  1.51719  14.75  0.00  2.00  73.02  0.00   8.53  1.59  0.08            7\n",
      "181  1.51683  14.56  0.00  1.98  73.29  0.00   8.52  1.57  0.07            7\n",
      "182  1.51545  14.14  0.00  2.68  73.39  0.08   9.07  0.61  0.05            7\n",
      "183  1.51556  13.87  0.00  2.54  73.23  0.14   9.41  0.81  0.01            7\n",
      "184  1.51727  14.70  0.00  2.34  73.28  0.00   8.95  0.66  0.00            7\n",
      "185  1.51531  14.38  0.00  2.66  73.10  0.04   9.08  0.64  0.00            7\n",
      "186  1.51609  15.01  0.00  2.51  73.05  0.05   8.83  0.53  0.00            7\n",
      "187  1.51508  15.15  0.00  2.25  73.50  0.00   8.34  0.63  0.00            7\n",
      "188  1.51653  11.95  0.00  1.19  75.18  2.70   8.93  0.00  0.00            7\n",
      "189  1.51514  14.85  0.00  2.42  73.72  0.00   8.39  0.56  0.00            7\n",
      "190  1.51658  14.80  0.00  1.99  73.11  0.00   8.28  1.71  0.00            7\n",
      "191  1.51617  14.95  0.00  2.27  73.30  0.00   8.71  0.67  0.00            7\n",
      "192  1.51732  14.95  0.00  1.80  72.99  0.00   8.61  1.55  0.00            7\n",
      "193  1.51645  14.94  0.00  1.87  73.11  0.00   8.67  1.38  0.00            7\n",
      "194  1.51640  14.37  0.00  2.74  72.85  0.00   9.45  0.54  0.00            7\n",
      "195  1.51623  14.14  0.00  2.88  72.61  0.08   9.18  1.06  0.00            7\n",
      "196  1.51685  14.92  0.00  1.99  73.06  0.00   8.40  1.59  0.00            7\n",
      "197  1.52065  14.36  0.00  2.02  73.42  0.00   8.44  1.64  0.00            7\n",
      "198  1.51651  14.38  0.00  1.94  73.61  0.00   8.48  1.57  0.00            7\n",
      "199  1.51711  14.23  0.00  2.08  73.36  0.00   8.62  1.67  0.00            7\n",
      "\n",
      "[200 rows x 10 columns]]\n"
     ]
    }
   ],
   "source": [
    "from sklearn.pipeline import Pipeline\n",
    "from sklearn.preprocessing import MinMaxScaler\n",
    "\n",
    "pipe=Pipeline([(\"scaler\",MinMaxScaler()),(\"randomForest\",RandomForestClassifier(n_estimators=200,random_state=seed))])\n",
    "\n",
    "pipe.fit(X_train,y_train)\n",
    "\n",
    "\n",
    "\n",
    "print(\"Memprediksi akurasi dengan test set model Random Forest\")\n",
    "print(\"Accuracy Score: \"+str(pipe.score(X_test,y_test)))\n",
    "y_pred=pipe.predict(X_test)\n",
    "print(y_pred)\n",
    "print(y_test)\n",
    "tempRest = [pipe,data]\n",
    "\n",
    "from sklearn.externals import joblib\n",
    "joblib.dump(tempRest,'randomForestClassifier.pkl')\n",
    "newClf = joblib.load('randomForestClassifier.pkl')\n",
    "\n",
    "print(newClf)\n"
   ]
  },
  {
   "cell_type": "code",
   "execution_count": null,
   "metadata": {
    "collapsed": true
   },
   "outputs": [],
   "source": []
  },
  {
   "cell_type": "code",
   "execution_count": null,
   "metadata": {
    "collapsed": true
   },
   "outputs": [],
   "source": []
  }
 ],
 "metadata": {
  "kernelspec": {
   "display_name": "Python 3",
   "language": "python",
   "name": "python3"
  },
  "language_info": {
   "codemirror_mode": {
    "name": "ipython",
    "version": 3
   },
   "file_extension": ".py",
   "mimetype": "text/x-python",
   "name": "python",
   "nbconvert_exporter": "python",
   "pygments_lexer": "ipython3",
   "version": "3.6.3"
  }
 },
 "nbformat": 4,
 "nbformat_minor": 2
}
